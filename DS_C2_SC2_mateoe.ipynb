{
  "nbformat": 4,
  "nbformat_minor": 0,
  "metadata": {
    "colab": {
      "provenance": [],
      "authorship_tag": "ABX9TyMW2xvEnVnifxPfUrVWrUPw",
      "include_colab_link": true
    },
    "kernelspec": {
      "name": "python3",
      "display_name": "Python 3"
    },
    "language_info": {
      "name": "python"
    }
  },
  "cells": [
    {
      "cell_type": "markdown",
      "metadata": {
        "id": "view-in-github",
        "colab_type": "text"
      },
      "source": [
        "<a href=\"https://colab.research.google.com/github/mateoesteva/Proyectos-Mateo/blob/main/DS_C2_SC2_mateoe.ipynb\" target=\"_parent\"><img src=\"https://colab.research.google.com/assets/colab-badge.svg\" alt=\"Open In Colab\"/></a>"
      ]
    },
    {
      "cell_type": "markdown",
      "source": [
        "a. Extraer la información del archivo.\n",
        "\n",
        "Para extraer la información del archivo primero tenemos que importar la librería de pandas. Después usamos pd.read_csv() para extraerlo en forma de DF.\n",
        "\n",
        "Imprimimos el head del DF para comparar con el Excel."
      ],
      "metadata": {
        "id": "qm8YKnSwkUz4"
      }
    },
    {
      "cell_type": "code",
      "source": [
        "import pandas as pd\n",
        "\n",
        "country_vaccions = pd.read_csv(\"/country_vaccinations.csv\")\n",
        "\n",
        "print(country_vaccions.head())"
      ],
      "metadata": {
        "colab": {
          "base_uri": "https://localhost:8080/"
        },
        "id": "Lk_0WtCakNx9",
        "outputId": "70f44b20-aa53-429d-dbcc-14623203ee10"
      },
      "execution_count": 5,
      "outputs": [
        {
          "output_type": "stream",
          "name": "stdout",
          "text": [
            "       country iso_code        date  total_vaccinations  people_vaccinated  \\\n",
            "0  Afghanistan      AFG  2021-02-22                 0.0                0.0   \n",
            "1  Afghanistan      AFG  2021-02-23                 NaN                NaN   \n",
            "2  Afghanistan      AFG  2021-02-24                 NaN                NaN   \n",
            "3  Afghanistan      AFG  2021-02-25                 NaN                NaN   \n",
            "4  Afghanistan      AFG  2021-02-26                 NaN                NaN   \n",
            "\n",
            "   people_fully_vaccinated  daily_vaccinations_raw  daily_vaccinations  \\\n",
            "0                      NaN                     NaN                 NaN   \n",
            "1                      NaN                     NaN              1367.0   \n",
            "2                      NaN                     NaN              1367.0   \n",
            "3                      NaN                     NaN              1367.0   \n",
            "4                      NaN                     NaN              1367.0   \n",
            "\n",
            "   total_vaccinations_per_hundred  people_vaccinated_per_hundred  \\\n",
            "0                             0.0                            0.0   \n",
            "1                             NaN                            NaN   \n",
            "2                             NaN                            NaN   \n",
            "3                             NaN                            NaN   \n",
            "4                             NaN                            NaN   \n",
            "\n",
            "   people_fully_vaccinated_per_hundred  daily_vaccinations_per_million  \\\n",
            "0                                  NaN                             NaN   \n",
            "1                                  NaN                            34.0   \n",
            "2                                  NaN                            34.0   \n",
            "3                                  NaN                            34.0   \n",
            "4                                  NaN                            34.0   \n",
            "\n",
            "                                            vaccines  \\\n",
            "0  Johnson&Johnson, Oxford/AstraZeneca, Pfizer/Bi...   \n",
            "1  Johnson&Johnson, Oxford/AstraZeneca, Pfizer/Bi...   \n",
            "2  Johnson&Johnson, Oxford/AstraZeneca, Pfizer/Bi...   \n",
            "3  Johnson&Johnson, Oxford/AstraZeneca, Pfizer/Bi...   \n",
            "4  Johnson&Johnson, Oxford/AstraZeneca, Pfizer/Bi...   \n",
            "\n",
            "                 source_name            source_website  \n",
            "0  World Health Organization  https://covid19.who.int/  \n",
            "1  World Health Organization  https://covid19.who.int/  \n",
            "2  World Health Organization  https://covid19.who.int/  \n",
            "3  World Health Organization  https://covid19.who.int/  \n",
            "4  World Health Organization  https://covid19.who.int/  \n"
          ]
        }
      ]
    },
    {
      "cell_type": "markdown",
      "source": [
        "b. Mostrar la estructura y tipos de datos de cada columna para identificar qué operaciones puedes realizar con cada una de ellas, asegurándote que las columnas con fechas sean del tipo datetime64.\n",
        "\n",
        "Usamos info() para conocer los tipos de datos de cada columna."
      ],
      "metadata": {
        "id": "_WaoVPVRksLT"
      }
    },
    {
      "source": [
        "print(country_vaccions.info())"
      ],
      "cell_type": "code",
      "metadata": {
        "colab": {
          "base_uri": "https://localhost:8080/"
        },
        "id": "BUWTy-ztiV0y",
        "outputId": "ba88c1f6-2581-44e6-9e13-5ea257551c32"
      },
      "execution_count": 8,
      "outputs": [
        {
          "output_type": "stream",
          "name": "stdout",
          "text": [
            "<class 'pandas.core.frame.DataFrame'>\n",
            "RangeIndex: 86512 entries, 0 to 86511\n",
            "Data columns (total 15 columns):\n",
            " #   Column                               Non-Null Count  Dtype  \n",
            "---  ------                               --------------  -----  \n",
            " 0   country                              86512 non-null  object \n",
            " 1   iso_code                             86512 non-null  object \n",
            " 2   date                                 86512 non-null  object \n",
            " 3   total_vaccinations                   43607 non-null  float64\n",
            " 4   people_vaccinated                    41294 non-null  float64\n",
            " 5   people_fully_vaccinated              38802 non-null  float64\n",
            " 6   daily_vaccinations_raw               35362 non-null  float64\n",
            " 7   daily_vaccinations                   86213 non-null  float64\n",
            " 8   total_vaccinations_per_hundred       43607 non-null  float64\n",
            " 9   people_vaccinated_per_hundred        41294 non-null  float64\n",
            " 10  people_fully_vaccinated_per_hundred  38802 non-null  float64\n",
            " 11  daily_vaccinations_per_million       86213 non-null  float64\n",
            " 12  vaccines                             86512 non-null  object \n",
            " 13  source_name                          86512 non-null  object \n",
            " 14  source_website                       86512 non-null  object \n",
            "dtypes: float64(9), object(6)\n",
            "memory usage: 9.9+ MB\n",
            "None\n"
          ]
        }
      ]
    },
    {
      "cell_type": "markdown",
      "source": [
        "Al imprimir la información del DF anterior, podemos observar que el d-type de date es \"object\" por lo que tenemos que cambiarlo a datetime64.\n",
        "\n",
        "Para ello utilizamos pd.to_datetime() y confirmamos el cambio imprimiendo la información del DF, nuevamente."
      ],
      "metadata": {
        "id": "5Swf-aslj6eV"
      }
    },
    {
      "cell_type": "code",
      "source": [
        "country_vaccions[\"date\"] = pd.to_datetime(country_vaccions[\"date\"])\n",
        "\n",
        "print(country_vaccions.info())"
      ],
      "metadata": {
        "colab": {
          "base_uri": "https://localhost:8080/"
        },
        "id": "ujDOtg_kiItp",
        "outputId": "7c481f19-140d-4818-a566-f85cb8798c43"
      },
      "execution_count": 9,
      "outputs": [
        {
          "output_type": "stream",
          "name": "stdout",
          "text": [
            "<class 'pandas.core.frame.DataFrame'>\n",
            "RangeIndex: 86512 entries, 0 to 86511\n",
            "Data columns (total 15 columns):\n",
            " #   Column                               Non-Null Count  Dtype         \n",
            "---  ------                               --------------  -----         \n",
            " 0   country                              86512 non-null  object        \n",
            " 1   iso_code                             86512 non-null  object        \n",
            " 2   date                                 86512 non-null  datetime64[ns]\n",
            " 3   total_vaccinations                   43607 non-null  float64       \n",
            " 4   people_vaccinated                    41294 non-null  float64       \n",
            " 5   people_fully_vaccinated              38802 non-null  float64       \n",
            " 6   daily_vaccinations_raw               35362 non-null  float64       \n",
            " 7   daily_vaccinations                   86213 non-null  float64       \n",
            " 8   total_vaccinations_per_hundred       43607 non-null  float64       \n",
            " 9   people_vaccinated_per_hundred        41294 non-null  float64       \n",
            " 10  people_fully_vaccinated_per_hundred  38802 non-null  float64       \n",
            " 11  daily_vaccinations_per_million       86213 non-null  float64       \n",
            " 12  vaccines                             86512 non-null  object        \n",
            " 13  source_name                          86512 non-null  object        \n",
            " 14  source_website                       86512 non-null  object        \n",
            "dtypes: datetime64[ns](1), float64(9), object(5)\n",
            "memory usage: 9.9+ MB\n",
            "None\n"
          ]
        }
      ]
    },
    {
      "cell_type": "markdown",
      "source": [
        "c. Determinar la cantidad de vacunas aplicadas de cada compañía (con base en cómo lo reporta cada país en la columna vaccines, en otras palabras, agrupe por vaccines y realice la sumatoria).\n",
        "\n",
        "Para esto, agrupamos por vacuna y sumamos la columna de daily_vaccinations"
      ],
      "metadata": {
        "id": "0U8wGh-Xl6t4"
      }
    },
    {
      "cell_type": "code",
      "source": [
        "sumas = country_vaccions.groupby(\"vaccines\")['daily_vaccinations'].sum()\n",
        "\n",
        "print(sumas)"
      ],
      "metadata": {
        "colab": {
          "base_uri": "https://localhost:8080/"
        },
        "id": "EeKTdNfGma8E",
        "outputId": "a5e86196-e65c-4480-b681-106ebf84053e"
      },
      "execution_count": 13,
      "outputs": [
        {
          "output_type": "stream",
          "name": "stdout",
          "text": [
            "vaccines\n",
            "Abdala, Johnson&Johnson, Oxford/AstraZeneca, Pfizer/BioNTech, Soberana02, Sputnik Light, Sputnik V                              9616160.0\n",
            "Abdala, Moderna, Oxford/AstraZeneca, Pfizer/BioNTech, Sinopharm/Beijing, Sputnik V                                            201816053.0\n",
            "Abdala, Sinopharm/Beijing, Sinovac, Soberana02, Sputnik Light, Sputnik V                                                       37861146.0\n",
            "Abdala, Soberana Plus, Soberana02                                                                                              33802957.0\n",
            "COVIran Barekat, Covaxin, FAKHRAVAC, Oxford/AstraZeneca, Razi Cov Pars, Sinopharm/Beijing, Soberana02, SpikoGen, Sputnik V    146357015.0\n",
            "                                                                                                                                 ...     \n",
            "Pfizer/BioNTech, Sinovac, Turkovac                                                                                            147484328.0\n",
            "Pfizer/BioNTech, Sputnik V                                                                                                        68643.0\n",
            "QazVac, Sinopharm/Beijing, Sputnik V                                                                                           20891256.0\n",
            "Sinopharm/Beijing                                                                                                                893824.0\n",
            "Sinopharm/Beijing, Sputnik V                                                                                                   14398697.0\n",
            "Name: daily_vaccinations, Length: 84, dtype: float64\n"
          ]
        }
      ]
    },
    {
      "cell_type": "markdown",
      "source": [
        "d. Obtener la cantidad de vacunas aplicadas en todo el mundo.\n",
        "\n",
        "para ello podemos sumar el resultado del inciso anterior usando sum()"
      ],
      "metadata": {
        "id": "d7ImN6QMoR9O"
      }
    },
    {
      "cell_type": "code",
      "source": [
        "mundo = sumas.sum()\n",
        "\n",
        "print(mundo)"
      ],
      "metadata": {
        "colab": {
          "base_uri": "https://localhost:8080/"
        },
        "id": "8gHsrNLZoQFS",
        "outputId": "2b387b78-3bf7-4ae3-bfc0-9ad6e9fc9a3b"
      },
      "execution_count": 15,
      "outputs": [
        {
          "output_type": "stream",
          "name": "stdout",
          "text": [
            "11320239871.0\n"
          ]
        }
      ]
    },
    {
      "cell_type": "markdown",
      "source": [
        "e. Calcular el promedio de vacunas aplicadas por país.\n",
        "\n",
        "Similar al inciso c, agrupamos por país y sumamos cada día."
      ],
      "metadata": {
        "id": "jlH-eNS7oVnI"
      }
    },
    {
      "cell_type": "code",
      "source": [
        "por_país = country_vaccions.groupby(\"country\")['daily_vaccinations'].mean()\n",
        "\n",
        "print(por_país)"
      ],
      "metadata": {
        "colab": {
          "base_uri": "https://localhost:8080/"
        },
        "id": "WeTA5tWgoXep",
        "outputId": "76f6968b-f7c8-4bd9-957f-7673eff4680f"
      },
      "execution_count": 14,
      "outputs": [
        {
          "output_type": "stream",
          "name": "stdout",
          "text": [
            "country\n",
            "Afghanistan          14610.681934\n",
            "Albania               6276.210046\n",
            "Algeria              33904.356436\n",
            "Andorra                367.716019\n",
            "Angola               44821.457584\n",
            "                         ...     \n",
            "Wales                15518.411765\n",
            "Wallis and Futuna       33.886486\n",
            "Yemen                 2556.115756\n",
            "Zambia                9649.805158\n",
            "Zimbabwe             21669.066832\n",
            "Name: daily_vaccinations, Length: 223, dtype: float64\n"
          ]
        }
      ]
    },
    {
      "cell_type": "markdown",
      "source": [
        "f. Determinar la cantidad de vacunas aplicadas el día 29/01/21 en todo el mundo.\n",
        "\n",
        "Para esto, filtramos las vacunas aplicadas el día en cuestión y sumamos el resultado."
      ],
      "metadata": {
        "id": "vXyFdseTo3tE"
      }
    },
    {
      "cell_type": "code",
      "source": [
        "día_29 = country_vaccions[country_vaccions[\"date\"] == \"2021-01-29\"]\n",
        "\n",
        "cantidad = día_29[\"daily_vaccinations\"].sum()\n",
        "\n",
        "print(cantidad)"
      ],
      "metadata": {
        "colab": {
          "base_uri": "https://localhost:8080/"
        },
        "id": "xurkYOmppAPA",
        "outputId": "e7511307-cfb6-47f4-8da1-63d397bb9366"
      },
      "execution_count": 17,
      "outputs": [
        {
          "output_type": "stream",
          "name": "stdout",
          "text": [
            "4884052.0\n"
          ]
        }
      ]
    },
    {
      "cell_type": "markdown",
      "source": [
        "g. Crear un dataframe nuevo denominado conDiferencias que contenga los datos originales y una columna derivada (diferencias) con las diferencias de aplicación entre las columnas daily_vaccionations y daily_vaccionations_raw.  \n",
        "\n",
        "Para esto, copiamos el DF anterior y definimos una nueva columna que incluya la resta correspondiente."
      ],
      "metadata": {
        "id": "oGZ7bxvVvLtj"
      }
    },
    {
      "cell_type": "code",
      "source": [
        "conDiferencias = country_vaccions.copy()\n",
        "\n",
        "conDiferencias[\"diferencias\"] = conDiferencias[\"daily_vaccinations\"] - conDiferencias[\"daily_vaccinations_raw\"]\n",
        "\n",
        "print(conDiferencias.head())"
      ],
      "metadata": {
        "colab": {
          "base_uri": "https://localhost:8080/"
        },
        "id": "BYXNoSlTwDrB",
        "outputId": "56bb25bc-aad7-4eef-945e-9d34c927755b"
      },
      "execution_count": 11,
      "outputs": [
        {
          "output_type": "stream",
          "name": "stdout",
          "text": [
            "       country iso_code        date  total_vaccinations  people_vaccinated  \\\n",
            "0  Afghanistan      AFG  2021-02-22                 0.0                0.0   \n",
            "1  Afghanistan      AFG  2021-02-23                 NaN                NaN   \n",
            "2  Afghanistan      AFG  2021-02-24                 NaN                NaN   \n",
            "3  Afghanistan      AFG  2021-02-25                 NaN                NaN   \n",
            "4  Afghanistan      AFG  2021-02-26                 NaN                NaN   \n",
            "\n",
            "   people_fully_vaccinated  daily_vaccinations_raw  daily_vaccinations  \\\n",
            "0                      NaN                     NaN                 NaN   \n",
            "1                      NaN                     NaN              1367.0   \n",
            "2                      NaN                     NaN              1367.0   \n",
            "3                      NaN                     NaN              1367.0   \n",
            "4                      NaN                     NaN              1367.0   \n",
            "\n",
            "   total_vaccinations_per_hundred  people_vaccinated_per_hundred  \\\n",
            "0                             0.0                            0.0   \n",
            "1                             NaN                            NaN   \n",
            "2                             NaN                            NaN   \n",
            "3                             NaN                            NaN   \n",
            "4                             NaN                            NaN   \n",
            "\n",
            "   people_fully_vaccinated_per_hundred  daily_vaccinations_per_million  \\\n",
            "0                                  NaN                             NaN   \n",
            "1                                  NaN                            34.0   \n",
            "2                                  NaN                            34.0   \n",
            "3                                  NaN                            34.0   \n",
            "4                                  NaN                            34.0   \n",
            "\n",
            "                                            vaccines  \\\n",
            "0  Johnson&Johnson, Oxford/AstraZeneca, Pfizer/Bi...   \n",
            "1  Johnson&Johnson, Oxford/AstraZeneca, Pfizer/Bi...   \n",
            "2  Johnson&Johnson, Oxford/AstraZeneca, Pfizer/Bi...   \n",
            "3  Johnson&Johnson, Oxford/AstraZeneca, Pfizer/Bi...   \n",
            "4  Johnson&Johnson, Oxford/AstraZeneca, Pfizer/Bi...   \n",
            "\n",
            "                 source_name            source_website  diferencias  \n",
            "0  World Health Organization  https://covid19.who.int/          NaN  \n",
            "1  World Health Organization  https://covid19.who.int/          NaN  \n",
            "2  World Health Organization  https://covid19.who.int/          NaN  \n",
            "3  World Health Organization  https://covid19.who.int/          NaN  \n",
            "4  World Health Organization  https://covid19.who.int/          NaN  \n"
          ]
        }
      ]
    },
    {
      "cell_type": "markdown",
      "source": [
        "h. Obtener el periodo de tiempo entre el registro con fecha más reciente y el registro con fecha más antigua.\n",
        "\n",
        "Para este paso simplemente restamos el máximo menos el mínimo, filtrando por fecha."
      ],
      "metadata": {
        "id": "gMk3vI9iwbR9"
      }
    },
    {
      "cell_type": "code",
      "source": [
        "country_vaccions['date'] = pd.to_datetime(country_vaccions['date'])\n",
        "\n",
        "periodo = country_vaccions[\"date\"].max() - country_vaccions[\"date\"].min()\n",
        "\n",
        "print(periodo)"
      ],
      "metadata": {
        "colab": {
          "base_uri": "https://localhost:8080/"
        },
        "id": "iYo6N6Vjwh9P",
        "outputId": "5a1b75fd-5dc4-4c60-eaf6-ea8a9beed37d"
      },
      "execution_count": 14,
      "outputs": [
        {
          "output_type": "stream",
          "name": "stdout",
          "text": [
            "482 days 00:00:00\n"
          ]
        }
      ]
    },
    {
      "cell_type": "markdown",
      "source": [
        "i. Crear un dataframe nuevo denominado conCantidad que contenga los datos originales y una columna derivada (canVac) con la cantidad de vacunas utilizadas cada día (usar la columna vaccines y separar por el carácter , )."
      ],
      "metadata": {
        "id": "HsY9jRG6xM_L"
      }
    },
    {
      "cell_type": "code",
      "source": [
        "conCantidad = country_vaccions.copy()\n",
        "\n",
        "conCantidad[\"canVac\"] = conCantidad[\"vaccines\"].str.split(\",\")\n",
        "\n",
        "print(conCantidad['canVac'].head())"
      ],
      "metadata": {
        "colab": {
          "base_uri": "https://localhost:8080/"
        },
        "id": "fLWp7FgKa0Zf",
        "outputId": "679b0521-9f72-462f-8b85-cf957b576b52"
      },
      "execution_count": 13,
      "outputs": [
        {
          "output_type": "stream",
          "name": "stdout",
          "text": [
            "0    [Johnson&Johnson,  Oxford/AstraZeneca,  Pfizer...\n",
            "1    [Johnson&Johnson,  Oxford/AstraZeneca,  Pfizer...\n",
            "2    [Johnson&Johnson,  Oxford/AstraZeneca,  Pfizer...\n",
            "3    [Johnson&Johnson,  Oxford/AstraZeneca,  Pfizer...\n",
            "4    [Johnson&Johnson,  Oxford/AstraZeneca,  Pfizer...\n",
            "Name: canVac, dtype: object\n"
          ]
        }
      ]
    },
    {
      "cell_type": "markdown",
      "source": [
        "j. Generar un dataframe denominado antes20 con todos los registros que se hayan realizado antes del 20 de diciembre de 2020."
      ],
      "metadata": {
        "id": "bws-ezavbl43"
      }
    },
    {
      "cell_type": "code",
      "source": [
        "antes20 = country_vaccions[country_vaccions['date']<'2020-12-20']\n",
        "\n",
        "print(antes20['date'].max())"
      ],
      "metadata": {
        "colab": {
          "base_uri": "https://localhost:8080/"
        },
        "id": "m1tcugdrbmuh",
        "outputId": "f6dd0302-2c2a-4694-90df-fcfefde5625d"
      },
      "execution_count": 16,
      "outputs": [
        {
          "output_type": "stream",
          "name": "stdout",
          "text": [
            "2020-12-19 00:00:00\n"
          ]
        }
      ]
    },
    {
      "cell_type": "markdown",
      "source": [
        "k. Obtener un dataframe denominado pfizer con todos los registros donde se haya utilizado la vacuna Pfizer."
      ],
      "metadata": {
        "id": "qiJt4A-xcCr8"
      }
    },
    {
      "cell_type": "code",
      "source": [
        "pfizer = country_vaccions[country_vaccions['vaccines']=='Pfizer']"
      ],
      "metadata": {
        "id": "l2a3LEI2cDaD"
      },
      "execution_count": 6,
      "outputs": []
    },
    {
      "cell_type": "markdown",
      "source": [
        "l. Almacenar los dataframes generados (conDiferencias, conCantidad, antes20 y pfizer) en un archivo de Excel denominado resultadosReto.xlsx, donde cada dataframe ocupe una hoja diferente. Se recomienda ver la documentación de pd.ExcelWriter."
      ],
      "metadata": {
        "id": "zFz34xJZcPIn"
      }
    },
    {
      "cell_type": "code",
      "source": [
        "with pd.ExcelWriter(\"resultadosReto.xlsx\") as writer:\n",
        "    conDiferencias.to_excel(writer, sheet_name=\"conDiferencias\")\n",
        "    conCantidad.to_excel(writer, sheet_name=\"conCantidad\")\n",
        "    antes20.to_excel(writer, sheet_name=\"antes20\")\n",
        "    pfizer.to_excel(writer, sheet_name=\"pfizer\")"
      ],
      "metadata": {
        "id": "VnIgn8lzcQCJ"
      },
      "execution_count": null,
      "outputs": []
    }
  ]
}