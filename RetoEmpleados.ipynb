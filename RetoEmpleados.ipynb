{
  "nbformat": 4,
  "nbformat_minor": 0,
  "metadata": {
    "colab": {
      "provenance": [],
      "mount_file_id": "1ZHwAkDJx4aSNVC8dZb7einE7GNurIio9",
      "authorship_tag": "ABX9TyO2lWyC3lp8esb0YPHIMm7j",
      "include_colab_link": true
    },
    "kernelspec": {
      "name": "python3",
      "display_name": "Python 3"
    },
    "language_info": {
      "name": "python"
    }
  },
  "cells": [
    {
      "cell_type": "markdown",
      "metadata": {
        "id": "view-in-github",
        "colab_type": "text"
      },
      "source": [
        "<a href=\"https://colab.research.google.com/github/mateoesteva/Proyectos-Mateo/blob/main/RetoEmpleados.ipynb\" target=\"_parent\"><img src=\"https://colab.research.google.com/assets/colab-badge.svg\" alt=\"Open In Colab\"/></a>"
      ]
    },
    {
      "cell_type": "code",
      "execution_count": 169,
      "metadata": {
        "id": "tasd5sb_V3DM"
      },
      "outputs": [],
      "source": [
        "import pandas as pd\n",
        "from sklearn.preprocessing import MinMaxScaler\n",
        "from sklearn.decomposition import PCA\n",
        "import numpy as np\n",
        "from sklearn.impute import SimpleImputer\n"
      ]
    },
    {
      "cell_type": "code",
      "source": [
        "from google.colab import drive\n",
        "drive.mount('/content/drive')"
      ],
      "metadata": {
        "colab": {
          "base_uri": "https://localhost:8080/"
        },
        "id": "8JBg0BRqz6-X",
        "outputId": "1b8849a1-b43d-455f-a59b-5fdbcef1330e"
      },
      "execution_count": 170,
      "outputs": [
        {
          "output_type": "stream",
          "name": "stdout",
          "text": [
            "Drive already mounted at /content/drive; to attempt to forcibly remount, call drive.mount(\"/content/drive\", force_remount=True).\n"
          ]
        }
      ]
    },
    {
      "cell_type": "code",
      "source": [
        "EmpleadosAttrition = pd.read_csv('/content/drive/MyDrive/empleadosRETO.csv')\n",
        "EmpleadosAttrition.info()"
      ],
      "metadata": {
        "colab": {
          "base_uri": "https://localhost:8080/"
        },
        "id": "L1h3A8Jg0P1D",
        "outputId": "98690cbf-f66f-493f-f0c9-a5653b7e2aaf"
      },
      "execution_count": 171,
      "outputs": [
        {
          "output_type": "stream",
          "name": "stdout",
          "text": [
            "<class 'pandas.core.frame.DataFrame'>\n",
            "RangeIndex: 400 entries, 0 to 399\n",
            "Data columns (total 30 columns):\n",
            " #   Column                    Non-Null Count  Dtype \n",
            "---  ------                    --------------  ----- \n",
            " 0   Age                       400 non-null    int64 \n",
            " 1   BusinessTravel            396 non-null    object\n",
            " 2   Department                400 non-null    object\n",
            " 3   DistanceFromHome          400 non-null    object\n",
            " 4   Education                 400 non-null    int64 \n",
            " 5   EducationField            400 non-null    object\n",
            " 6   EmployeeCount             400 non-null    int64 \n",
            " 7   EmployeeNumber            400 non-null    int64 \n",
            " 8   EnvironmentSatisfaction   400 non-null    int64 \n",
            " 9   Gender                    400 non-null    object\n",
            " 10  JobInvolvement            400 non-null    int64 \n",
            " 11  JobLevel                  400 non-null    int64 \n",
            " 12  JobRole                   400 non-null    object\n",
            " 13  JobSatisfaction           400 non-null    int64 \n",
            " 14  MaritalStatus             395 non-null    object\n",
            " 15  MonthlyIncome             400 non-null    int64 \n",
            " 16  NumCompaniesWorked        400 non-null    int64 \n",
            " 17  HiringDate                400 non-null    object\n",
            " 18  Over18                    400 non-null    object\n",
            " 19  OverTime                  400 non-null    object\n",
            " 20  PercentSalaryHike         400 non-null    int64 \n",
            " 21  PerformanceRating         400 non-null    int64 \n",
            " 22  RelationshipSatisfaction  400 non-null    int64 \n",
            " 23  StandardHours             400 non-null    int64 \n",
            " 24  TotalWorkingYears         400 non-null    int64 \n",
            " 25  TrainingTimesLastYear     400 non-null    int64 \n",
            " 26  WorkLifeBalance           400 non-null    int64 \n",
            " 27  YearsInCurrentRole        400 non-null    int64 \n",
            " 28  YearsSinceLastPromotion   400 non-null    int64 \n",
            " 29  Attrition                 400 non-null    object\n",
            "dtypes: int64(19), object(11)\n",
            "memory usage: 93.9+ KB\n"
          ]
        }
      ]
    },
    {
      "cell_type": "code",
      "source": [
        "# EmpleadosAttrition = pd.read_csv('empleadosRETO.csv')\n",
        "\n",
        "# EmpleadosAttrition.info()"
      ],
      "metadata": {
        "id": "D5mFU2gTWJf2"
      },
      "execution_count": 172,
      "outputs": []
    },
    {
      "cell_type": "code",
      "source": [
        "EmpleadosAttrition = EmpleadosAttrition.drop(['EmployeeCount','EmployeeNumber','Over18','StandardHours'], axis =1)"
      ],
      "metadata": {
        "id": "ChFbBnyYWyxj"
      },
      "execution_count": 173,
      "outputs": []
    },
    {
      "cell_type": "markdown",
      "source": [
        "Analizando la información proporcionada, detectaste que no se cuenta con los años que el empelado lleva en la compañía y parece ser un buen dato. Dicha cantidad se puede calcular con la fecha de contratación ‘HiringDate’:\n",
        "\n",
        "\n",
        "\n",
        "\n",
        "*   a.\tCrea una columna llamada Year y obtén el año de contratación del empleado a partir de su fecha ‘HiringDate’. No se te olvide que debe ser un entero.\n",
        "*   b.\tCrea una columna llamada YearsAtCompany que contenga los años que el empleado lleva en la compañía hasta el año 2018. Para su cálculo, usa la variable Year que acabas de crear.\n",
        "\n",
        "\n",
        "\n"
      ],
      "metadata": {
        "id": "zgsTCqHzZC16"
      }
    },
    {
      "cell_type": "code",
      "source": [
        "# Convert 'HiringDate' to datetime objects, handling errors\n",
        "EmpleadosAttrition['Year'] = pd.to_datetime(EmpleadosAttrition['HiringDate'], errors='coerce').dt.year.astype('Int64')\n",
        "EmpleadosAttrition['YearsAtCompany'] = 2018 - EmpleadosAttrition['Year']\n",
        "# EmpleadosAttrition['YearsAtCompany'].max()"
      ],
      "metadata": {
        "id": "gVeySBhfXJWs"
      },
      "execution_count": 174,
      "outputs": []
    },
    {
      "cell_type": "markdown",
      "source": [
        "La DistanceFromHome está dada en kilómetros, pero tiene las letras “km” al final y así no puede ser entera:\n",
        "\n",
        "\n",
        "*   Renombra la variable DistanceFromHome a DistanceFromHome_km.\n",
        "*   Crea una nueva variable DistanceFromHome que sea entera, es decir, solo con números.\n",
        "\n"
      ],
      "metadata": {
        "id": "XVAIDvRzeTkc"
      }
    },
    {
      "cell_type": "code",
      "source": [
        "EmpleadosAttrition = EmpleadosAttrition.rename(columns={'DistanceFromHome': 'DistanceFromHome_km'})\n",
        "EmpleadosAttrition['DistanceFromHome'] = EmpleadosAttrition['DistanceFromHome_km'].str.split(' ').str[0].astype(int)\n",
        "# EmpleadosAttrition['DistanceFromHome'] = EmpleadosAttrition['DistanceFromHome_km'].str[0].astype(int)\n",
        "EmpleadosAttrition.info()"
      ],
      "metadata": {
        "colab": {
          "base_uri": "https://localhost:8080/"
        },
        "id": "KtG3-_bzZ-k7",
        "outputId": "efa7e611-27a8-4fa8-b1dc-8a943657e0dd"
      },
      "execution_count": 175,
      "outputs": [
        {
          "output_type": "stream",
          "name": "stdout",
          "text": [
            "<class 'pandas.core.frame.DataFrame'>\n",
            "RangeIndex: 400 entries, 0 to 399\n",
            "Data columns (total 29 columns):\n",
            " #   Column                    Non-Null Count  Dtype \n",
            "---  ------                    --------------  ----- \n",
            " 0   Age                       400 non-null    int64 \n",
            " 1   BusinessTravel            396 non-null    object\n",
            " 2   Department                400 non-null    object\n",
            " 3   DistanceFromHome_km       400 non-null    object\n",
            " 4   Education                 400 non-null    int64 \n",
            " 5   EducationField            400 non-null    object\n",
            " 6   EnvironmentSatisfaction   400 non-null    int64 \n",
            " 7   Gender                    400 non-null    object\n",
            " 8   JobInvolvement            400 non-null    int64 \n",
            " 9   JobLevel                  400 non-null    int64 \n",
            " 10  JobRole                   400 non-null    object\n",
            " 11  JobSatisfaction           400 non-null    int64 \n",
            " 12  MaritalStatus             395 non-null    object\n",
            " 13  MonthlyIncome             400 non-null    int64 \n",
            " 14  NumCompaniesWorked        400 non-null    int64 \n",
            " 15  HiringDate                400 non-null    object\n",
            " 16  OverTime                  400 non-null    object\n",
            " 17  PercentSalaryHike         400 non-null    int64 \n",
            " 18  PerformanceRating         400 non-null    int64 \n",
            " 19  RelationshipSatisfaction  400 non-null    int64 \n",
            " 20  TotalWorkingYears         400 non-null    int64 \n",
            " 21  TrainingTimesLastYear     400 non-null    int64 \n",
            " 22  WorkLifeBalance           400 non-null    int64 \n",
            " 23  YearsInCurrentRole        400 non-null    int64 \n",
            " 24  YearsSinceLastPromotion   400 non-null    int64 \n",
            " 25  Attrition                 400 non-null    object\n",
            " 26  Year                      399 non-null    Int64 \n",
            " 27  YearsAtCompany            399 non-null    Int64 \n",
            " 28  DistanceFromHome          400 non-null    int64 \n",
            "dtypes: Int64(2), int64(17), object(10)\n",
            "memory usage: 91.5+ KB\n"
          ]
        }
      ]
    },
    {
      "cell_type": "markdown",
      "source": [
        "Borra las columnas Year, HiringDate y DistanceFromHome_km debido a que ya no son útiles."
      ],
      "metadata": {
        "id": "RXgFEdQuhIZS"
      }
    },
    {
      "cell_type": "code",
      "source": [
        "EmpleadosAttrition = EmpleadosAttrition.drop(['Year','HiringDate','DistanceFromHome_km'], axis =1)"
      ],
      "metadata": {
        "id": "1AFuOBhDeyWT"
      },
      "execution_count": 176,
      "outputs": []
    },
    {
      "cell_type": "markdown",
      "source": [
        "Aprovechando los ajustes que se están haciendo, la empresa desea saber si todos los departamentos tienen un ingreso promedio similar. Genera una nuevo frame llamado SueldoPromedioDepto que contenga el MonthlyIncome promedio por departamento de los empleados y colócalo en una variable llamada SueldoPromedio. Esta tabla solo es informativa, no la vas a utilizar en el set de datos que estás construyendo."
      ],
      "metadata": {
        "id": "5BzxhrZLhkTf"
      }
    },
    {
      "cell_type": "code",
      "source": [
        "SueldoPromedio = EmpleadosAttrition['MonthlyIncome'].mean()\n",
        "print(SueldoPromedio)"
      ],
      "metadata": {
        "colab": {
          "base_uri": "https://localhost:8080/"
        },
        "id": "n_KW_sK3ho1B",
        "outputId": "9e312d92-8abf-46ac-d992-771632f0242f"
      },
      "execution_count": 177,
      "outputs": [
        {
          "output_type": "stream",
          "name": "stdout",
          "text": [
            "6910.525\n"
          ]
        }
      ]
    },
    {
      "cell_type": "markdown",
      "source": [
        "La variable MonthlyIncome tiene un valor numérico muy grande comparada con las otras variables. Escala dicha variable para que tenga un valor entre 0 y 1."
      ],
      "metadata": {
        "id": "232QukyxkquE"
      }
    },
    {
      "cell_type": "code",
      "source": [
        "EmpleadosAttrition['MonthlyIncome'] = MinMaxScaler().fit_transform(EmpleadosAttrition[['MonthlyIncome']])\n",
        "EmpleadosAttrition.info()"
      ],
      "metadata": {
        "colab": {
          "base_uri": "https://localhost:8080/"
        },
        "id": "LLA403_SkyTZ",
        "outputId": "cbbea87e-7462-49e1-dabe-8f81ad206495"
      },
      "execution_count": 178,
      "outputs": [
        {
          "output_type": "stream",
          "name": "stdout",
          "text": [
            "<class 'pandas.core.frame.DataFrame'>\n",
            "RangeIndex: 400 entries, 0 to 399\n",
            "Data columns (total 26 columns):\n",
            " #   Column                    Non-Null Count  Dtype  \n",
            "---  ------                    --------------  -----  \n",
            " 0   Age                       400 non-null    int64  \n",
            " 1   BusinessTravel            396 non-null    object \n",
            " 2   Department                400 non-null    object \n",
            " 3   Education                 400 non-null    int64  \n",
            " 4   EducationField            400 non-null    object \n",
            " 5   EnvironmentSatisfaction   400 non-null    int64  \n",
            " 6   Gender                    400 non-null    object \n",
            " 7   JobInvolvement            400 non-null    int64  \n",
            " 8   JobLevel                  400 non-null    int64  \n",
            " 9   JobRole                   400 non-null    object \n",
            " 10  JobSatisfaction           400 non-null    int64  \n",
            " 11  MaritalStatus             395 non-null    object \n",
            " 12  MonthlyIncome             400 non-null    float64\n",
            " 13  NumCompaniesWorked        400 non-null    int64  \n",
            " 14  OverTime                  400 non-null    object \n",
            " 15  PercentSalaryHike         400 non-null    int64  \n",
            " 16  PerformanceRating         400 non-null    int64  \n",
            " 17  RelationshipSatisfaction  400 non-null    int64  \n",
            " 18  TotalWorkingYears         400 non-null    int64  \n",
            " 19  TrainingTimesLastYear     400 non-null    int64  \n",
            " 20  WorkLifeBalance           400 non-null    int64  \n",
            " 21  YearsInCurrentRole        400 non-null    int64  \n",
            " 22  YearsSinceLastPromotion   400 non-null    int64  \n",
            " 23  Attrition                 400 non-null    object \n",
            " 24  YearsAtCompany            399 non-null    Int64  \n",
            " 25  DistanceFromHome          400 non-null    int64  \n",
            "dtypes: Int64(1), float64(1), int64(16), object(8)\n",
            "memory usage: 81.8+ KB\n"
          ]
        }
      ]
    },
    {
      "cell_type": "markdown",
      "source": [
        "Todo parece indicar que las variables categóricas que quedan sí son importantes para obtener la variable de salida. Convierte todas las variables categóricas que quedan a numéricas: a.\tBusinessTravel\n",
        "b.\tDepartment\n",
        "c.\tEducationField\n",
        "d.\tGender\n",
        "e.\tJobRole\n",
        "f.\tMaritalStatus\n",
        "g.\tAttrition\n"
      ],
      "metadata": {
        "id": "ULtLQKJ3l2Mg"
      }
    },
    {
      "cell_type": "code",
      "source": [
        "cols = ['BusinessTravel','Department','EducationField','Gender','JobRole','MaritalStatus','Attrition']\n",
        "for col in cols:\n",
        "    EmpleadosAttrition[col] = EmpleadosAttrition[col].astype('category').cat.codes\n",
        "# EmpleadosAttrition = EmpleadosAttrition[['BusinessTravel','Department','EducationField','Gender','JobRole','MaritalStatus','Attrition']].astype('category')\n",
        "# EmpleadosAttrition = EmpleadosAttrition['BusinessTravel'].astype('category').cat.codes"
      ],
      "metadata": {
        "id": "wagB8cgal_9L"
      },
      "execution_count": 179,
      "outputs": []
    },
    {
      "cell_type": "markdown",
      "source": [
        "Ahora debes hacer la evaluación de las variables para quedarte con las mejores. Calcula la correlación lineal de cada una de las variables con respecto al Attrition."
      ],
      "metadata": {
        "id": "wQ2TLj7Cofdg"
      }
    },
    {
      "cell_type": "markdown",
      "source": [
        "Selecciona solo aquellas variables que tengan una correlación mayor o igual a 0.1, dejándolas en otro frame llamado EmpleadosAttritionFinal. No olvides mantener la variable de salida Attrition; esto es equivalente a borrar las que no cumplen con el límite."
      ],
      "metadata": {
        "id": "wHIeqTnSwfzY"
      }
    },
    {
      "cell_type": "code",
      "source": [
        "EmpleadosAttrition = EmpleadosAttrition.drop(['OverTime'], axis=1)\n"
      ],
      "metadata": {
        "id": "1a_b-2ffokKp"
      },
      "execution_count": 180,
      "outputs": []
    },
    {
      "cell_type": "code",
      "source": [
        "corr = EmpleadosAttrition.corr()['Attrition'].abs().sort_values(ascending=False)"
      ],
      "metadata": {
        "id": "Mq3tF1kMtEtJ"
      },
      "execution_count": 181,
      "outputs": []
    },
    {
      "cell_type": "code",
      "source": [
        "corr1 = corr[corr >= 0.1]\n",
        "corr1"
      ],
      "metadata": {
        "colab": {
          "base_uri": "https://localhost:8080/",
          "height": 429
        },
        "id": "0-zY_YfI4VM1",
        "outputId": "b5a5e58b-e00f-4bc5-a5b1-9f9752cb8ed9"
      },
      "execution_count": 182,
      "outputs": [
        {
          "output_type": "execute_result",
          "data": {
            "text/plain": [
              "Attrition                  1.000000\n",
              "JobLevel                   0.214266\n",
              "TotalWorkingYears          0.213329\n",
              "Age                        0.212121\n",
              "YearsInCurrentRole         0.203918\n",
              "MonthlyIncome              0.194936\n",
              "MaritalStatus              0.180404\n",
              "YearsAtCompany             0.176287\n",
              "JobInvolvement             0.166785\n",
              "JobSatisfaction            0.164957\n",
              "EnvironmentSatisfaction    0.124327\n",
              "Name: Attrition, dtype: float64"
            ],
            "text/html": [
              "<div>\n",
              "<style scoped>\n",
              "    .dataframe tbody tr th:only-of-type {\n",
              "        vertical-align: middle;\n",
              "    }\n",
              "\n",
              "    .dataframe tbody tr th {\n",
              "        vertical-align: top;\n",
              "    }\n",
              "\n",
              "    .dataframe thead th {\n",
              "        text-align: right;\n",
              "    }\n",
              "</style>\n",
              "<table border=\"1\" class=\"dataframe\">\n",
              "  <thead>\n",
              "    <tr style=\"text-align: right;\">\n",
              "      <th></th>\n",
              "      <th>Attrition</th>\n",
              "    </tr>\n",
              "  </thead>\n",
              "  <tbody>\n",
              "    <tr>\n",
              "      <th>Attrition</th>\n",
              "      <td>1.000000</td>\n",
              "    </tr>\n",
              "    <tr>\n",
              "      <th>JobLevel</th>\n",
              "      <td>0.214266</td>\n",
              "    </tr>\n",
              "    <tr>\n",
              "      <th>TotalWorkingYears</th>\n",
              "      <td>0.213329</td>\n",
              "    </tr>\n",
              "    <tr>\n",
              "      <th>Age</th>\n",
              "      <td>0.212121</td>\n",
              "    </tr>\n",
              "    <tr>\n",
              "      <th>YearsInCurrentRole</th>\n",
              "      <td>0.203918</td>\n",
              "    </tr>\n",
              "    <tr>\n",
              "      <th>MonthlyIncome</th>\n",
              "      <td>0.194936</td>\n",
              "    </tr>\n",
              "    <tr>\n",
              "      <th>MaritalStatus</th>\n",
              "      <td>0.180404</td>\n",
              "    </tr>\n",
              "    <tr>\n",
              "      <th>YearsAtCompany</th>\n",
              "      <td>0.176287</td>\n",
              "    </tr>\n",
              "    <tr>\n",
              "      <th>JobInvolvement</th>\n",
              "      <td>0.166785</td>\n",
              "    </tr>\n",
              "    <tr>\n",
              "      <th>JobSatisfaction</th>\n",
              "      <td>0.164957</td>\n",
              "    </tr>\n",
              "    <tr>\n",
              "      <th>EnvironmentSatisfaction</th>\n",
              "      <td>0.124327</td>\n",
              "    </tr>\n",
              "  </tbody>\n",
              "</table>\n",
              "</div><br><label><b>dtype:</b> float64</label>"
            ]
          },
          "metadata": {},
          "execution_count": 182
        }
      ]
    },
    {
      "cell_type": "markdown",
      "source": [
        "Selecciona solo aquellas variables que tengan una correlación mayor o igual a 0.1, dejándolas en otro frame llamado EmpleadosAttritionFinal. No olvides mantener la variable de salida Attrition; esto es equivalente a borrar las que no cumplen con el límite."
      ],
      "metadata": {
        "id": "NdxzPd-S6K4_"
      }
    },
    {
      "cell_type": "code",
      "source": [
        "EmpleadosAttritionFinal = EmpleadosAttrition[corr1.index]\n",
        "EmpleadosAttritionFinal.fillna(0)\n",
        "# EmpleadosAttritionFinal.info()\n"
      ],
      "metadata": {
        "colab": {
          "base_uri": "https://localhost:8080/",
          "height": 444
        },
        "id": "4m0eZwyX5tYb",
        "outputId": "aa658b04-12b4-4f4d-9fe7-bc7b80542e49"
      },
      "execution_count": 189,
      "outputs": [
        {
          "output_type": "execute_result",
          "data": {
            "text/plain": [
              "     Attrition  JobLevel  TotalWorkingYears  Age  YearsInCurrentRole  \\\n",
              "0            0         4                 32   50                   4   \n",
              "1            0         2                  7   36                   2   \n",
              "2            1         1                  1   21                   0   \n",
              "3            0         3                 18   52                   6   \n",
              "4            1         3                 15   33                   6   \n",
              "..         ...       ...                ...  ...                 ...   \n",
              "395          1         1                  8   33                   4   \n",
              "396          1         2                  4   31                   2   \n",
              "397          0         3                 10   37                   8   \n",
              "398          0         1                  7   38                   0   \n",
              "399          0         1                  8   33                   7   \n",
              "\n",
              "     MonthlyIncome  MaritalStatus  YearsAtCompany  JobInvolvement  \\\n",
              "0         0.864269              0               5               3   \n",
              "1         0.207340              0               3               3   \n",
              "2         0.088062              2               1               3   \n",
              "3         0.497574              2               8               3   \n",
              "4         0.664470              1               7               3   \n",
              "..             ...            ...             ...             ...   \n",
              "395       0.075248              1               5               3   \n",
              "396       0.187197              1               2               1   \n",
              "397       0.589327              0              10               3   \n",
              "398       0.121124              1               0               3   \n",
              "399       0.092122              1               8               3   \n",
              "\n",
              "     JobSatisfaction  EnvironmentSatisfaction  \n",
              "0                  4                        4  \n",
              "1                  2                        2  \n",
              "2                  2                        2  \n",
              "3                  2                        2  \n",
              "4                  3                        2  \n",
              "..               ...                      ...  \n",
              "395                4                        3  \n",
              "396                3                        2  \n",
              "397                4                        2  \n",
              "398                3                        4  \n",
              "399                2                        4  \n",
              "\n",
              "[400 rows x 11 columns]"
            ],
            "text/html": [
              "\n",
              "  <div id=\"df-e57bea84-4f34-423e-bfc2-d74492faad34\" class=\"colab-df-container\">\n",
              "    <div>\n",
              "<style scoped>\n",
              "    .dataframe tbody tr th:only-of-type {\n",
              "        vertical-align: middle;\n",
              "    }\n",
              "\n",
              "    .dataframe tbody tr th {\n",
              "        vertical-align: top;\n",
              "    }\n",
              "\n",
              "    .dataframe thead th {\n",
              "        text-align: right;\n",
              "    }\n",
              "</style>\n",
              "<table border=\"1\" class=\"dataframe\">\n",
              "  <thead>\n",
              "    <tr style=\"text-align: right;\">\n",
              "      <th></th>\n",
              "      <th>Attrition</th>\n",
              "      <th>JobLevel</th>\n",
              "      <th>TotalWorkingYears</th>\n",
              "      <th>Age</th>\n",
              "      <th>YearsInCurrentRole</th>\n",
              "      <th>MonthlyIncome</th>\n",
              "      <th>MaritalStatus</th>\n",
              "      <th>YearsAtCompany</th>\n",
              "      <th>JobInvolvement</th>\n",
              "      <th>JobSatisfaction</th>\n",
              "      <th>EnvironmentSatisfaction</th>\n",
              "    </tr>\n",
              "  </thead>\n",
              "  <tbody>\n",
              "    <tr>\n",
              "      <th>0</th>\n",
              "      <td>0</td>\n",
              "      <td>4</td>\n",
              "      <td>32</td>\n",
              "      <td>50</td>\n",
              "      <td>4</td>\n",
              "      <td>0.864269</td>\n",
              "      <td>0</td>\n",
              "      <td>5</td>\n",
              "      <td>3</td>\n",
              "      <td>4</td>\n",
              "      <td>4</td>\n",
              "    </tr>\n",
              "    <tr>\n",
              "      <th>1</th>\n",
              "      <td>0</td>\n",
              "      <td>2</td>\n",
              "      <td>7</td>\n",
              "      <td>36</td>\n",
              "      <td>2</td>\n",
              "      <td>0.207340</td>\n",
              "      <td>0</td>\n",
              "      <td>3</td>\n",
              "      <td>3</td>\n",
              "      <td>2</td>\n",
              "      <td>2</td>\n",
              "    </tr>\n",
              "    <tr>\n",
              "      <th>2</th>\n",
              "      <td>1</td>\n",
              "      <td>1</td>\n",
              "      <td>1</td>\n",
              "      <td>21</td>\n",
              "      <td>0</td>\n",
              "      <td>0.088062</td>\n",
              "      <td>2</td>\n",
              "      <td>1</td>\n",
              "      <td>3</td>\n",
              "      <td>2</td>\n",
              "      <td>2</td>\n",
              "    </tr>\n",
              "    <tr>\n",
              "      <th>3</th>\n",
              "      <td>0</td>\n",
              "      <td>3</td>\n",
              "      <td>18</td>\n",
              "      <td>52</td>\n",
              "      <td>6</td>\n",
              "      <td>0.497574</td>\n",
              "      <td>2</td>\n",
              "      <td>8</td>\n",
              "      <td>3</td>\n",
              "      <td>2</td>\n",
              "      <td>2</td>\n",
              "    </tr>\n",
              "    <tr>\n",
              "      <th>4</th>\n",
              "      <td>1</td>\n",
              "      <td>3</td>\n",
              "      <td>15</td>\n",
              "      <td>33</td>\n",
              "      <td>6</td>\n",
              "      <td>0.664470</td>\n",
              "      <td>1</td>\n",
              "      <td>7</td>\n",
              "      <td>3</td>\n",
              "      <td>3</td>\n",
              "      <td>2</td>\n",
              "    </tr>\n",
              "    <tr>\n",
              "      <th>...</th>\n",
              "      <td>...</td>\n",
              "      <td>...</td>\n",
              "      <td>...</td>\n",
              "      <td>...</td>\n",
              "      <td>...</td>\n",
              "      <td>...</td>\n",
              "      <td>...</td>\n",
              "      <td>...</td>\n",
              "      <td>...</td>\n",
              "      <td>...</td>\n",
              "      <td>...</td>\n",
              "    </tr>\n",
              "    <tr>\n",
              "      <th>395</th>\n",
              "      <td>1</td>\n",
              "      <td>1</td>\n",
              "      <td>8</td>\n",
              "      <td>33</td>\n",
              "      <td>4</td>\n",
              "      <td>0.075248</td>\n",
              "      <td>1</td>\n",
              "      <td>5</td>\n",
              "      <td>3</td>\n",
              "      <td>4</td>\n",
              "      <td>3</td>\n",
              "    </tr>\n",
              "    <tr>\n",
              "      <th>396</th>\n",
              "      <td>1</td>\n",
              "      <td>2</td>\n",
              "      <td>4</td>\n",
              "      <td>31</td>\n",
              "      <td>2</td>\n",
              "      <td>0.187197</td>\n",
              "      <td>1</td>\n",
              "      <td>2</td>\n",
              "      <td>1</td>\n",
              "      <td>3</td>\n",
              "      <td>2</td>\n",
              "    </tr>\n",
              "    <tr>\n",
              "      <th>397</th>\n",
              "      <td>0</td>\n",
              "      <td>3</td>\n",
              "      <td>10</td>\n",
              "      <td>37</td>\n",
              "      <td>8</td>\n",
              "      <td>0.589327</td>\n",
              "      <td>0</td>\n",
              "      <td>10</td>\n",
              "      <td>3</td>\n",
              "      <td>4</td>\n",
              "      <td>2</td>\n",
              "    </tr>\n",
              "    <tr>\n",
              "      <th>398</th>\n",
              "      <td>0</td>\n",
              "      <td>1</td>\n",
              "      <td>7</td>\n",
              "      <td>38</td>\n",
              "      <td>0</td>\n",
              "      <td>0.121124</td>\n",
              "      <td>1</td>\n",
              "      <td>0</td>\n",
              "      <td>3</td>\n",
              "      <td>3</td>\n",
              "      <td>4</td>\n",
              "    </tr>\n",
              "    <tr>\n",
              "      <th>399</th>\n",
              "      <td>0</td>\n",
              "      <td>1</td>\n",
              "      <td>8</td>\n",
              "      <td>33</td>\n",
              "      <td>7</td>\n",
              "      <td>0.092122</td>\n",
              "      <td>1</td>\n",
              "      <td>8</td>\n",
              "      <td>3</td>\n",
              "      <td>2</td>\n",
              "      <td>4</td>\n",
              "    </tr>\n",
              "  </tbody>\n",
              "</table>\n",
              "<p>400 rows × 11 columns</p>\n",
              "</div>\n",
              "    <div class=\"colab-df-buttons\">\n",
              "\n",
              "  <div class=\"colab-df-container\">\n",
              "    <button class=\"colab-df-convert\" onclick=\"convertToInteractive('df-e57bea84-4f34-423e-bfc2-d74492faad34')\"\n",
              "            title=\"Convert this dataframe to an interactive table.\"\n",
              "            style=\"display:none;\">\n",
              "\n",
              "  <svg xmlns=\"http://www.w3.org/2000/svg\" height=\"24px\" viewBox=\"0 -960 960 960\">\n",
              "    <path d=\"M120-120v-720h720v720H120Zm60-500h600v-160H180v160Zm220 220h160v-160H400v160Zm0 220h160v-160H400v160ZM180-400h160v-160H180v160Zm440 0h160v-160H620v160ZM180-180h160v-160H180v160Zm440 0h160v-160H620v160Z\"/>\n",
              "  </svg>\n",
              "    </button>\n",
              "\n",
              "  <style>\n",
              "    .colab-df-container {\n",
              "      display:flex;\n",
              "      gap: 12px;\n",
              "    }\n",
              "\n",
              "    .colab-df-convert {\n",
              "      background-color: #E8F0FE;\n",
              "      border: none;\n",
              "      border-radius: 50%;\n",
              "      cursor: pointer;\n",
              "      display: none;\n",
              "      fill: #1967D2;\n",
              "      height: 32px;\n",
              "      padding: 0 0 0 0;\n",
              "      width: 32px;\n",
              "    }\n",
              "\n",
              "    .colab-df-convert:hover {\n",
              "      background-color: #E2EBFA;\n",
              "      box-shadow: 0px 1px 2px rgba(60, 64, 67, 0.3), 0px 1px 3px 1px rgba(60, 64, 67, 0.15);\n",
              "      fill: #174EA6;\n",
              "    }\n",
              "\n",
              "    .colab-df-buttons div {\n",
              "      margin-bottom: 4px;\n",
              "    }\n",
              "\n",
              "    [theme=dark] .colab-df-convert {\n",
              "      background-color: #3B4455;\n",
              "      fill: #D2E3FC;\n",
              "    }\n",
              "\n",
              "    [theme=dark] .colab-df-convert:hover {\n",
              "      background-color: #434B5C;\n",
              "      box-shadow: 0px 1px 3px 1px rgba(0, 0, 0, 0.15);\n",
              "      filter: drop-shadow(0px 1px 2px rgba(0, 0, 0, 0.3));\n",
              "      fill: #FFFFFF;\n",
              "    }\n",
              "  </style>\n",
              "\n",
              "    <script>\n",
              "      const buttonEl =\n",
              "        document.querySelector('#df-e57bea84-4f34-423e-bfc2-d74492faad34 button.colab-df-convert');\n",
              "      buttonEl.style.display =\n",
              "        google.colab.kernel.accessAllowed ? 'block' : 'none';\n",
              "\n",
              "      async function convertToInteractive(key) {\n",
              "        const element = document.querySelector('#df-e57bea84-4f34-423e-bfc2-d74492faad34');\n",
              "        const dataTable =\n",
              "          await google.colab.kernel.invokeFunction('convertToInteractive',\n",
              "                                                    [key], {});\n",
              "        if (!dataTable) return;\n",
              "\n",
              "        const docLinkHtml = 'Like what you see? Visit the ' +\n",
              "          '<a target=\"_blank\" href=https://colab.research.google.com/notebooks/data_table.ipynb>data table notebook</a>'\n",
              "          + ' to learn more about interactive tables.';\n",
              "        element.innerHTML = '';\n",
              "        dataTable['output_type'] = 'display_data';\n",
              "        await google.colab.output.renderOutput(dataTable, element);\n",
              "        const docLink = document.createElement('div');\n",
              "        docLink.innerHTML = docLinkHtml;\n",
              "        element.appendChild(docLink);\n",
              "      }\n",
              "    </script>\n",
              "  </div>\n",
              "\n",
              "\n",
              "    <div id=\"df-17f626c3-e154-4490-acad-8155d9fa1723\">\n",
              "      <button class=\"colab-df-quickchart\" onclick=\"quickchart('df-17f626c3-e154-4490-acad-8155d9fa1723')\"\n",
              "                title=\"Suggest charts\"\n",
              "                style=\"display:none;\">\n",
              "\n",
              "<svg xmlns=\"http://www.w3.org/2000/svg\" height=\"24px\"viewBox=\"0 0 24 24\"\n",
              "     width=\"24px\">\n",
              "    <g>\n",
              "        <path d=\"M19 3H5c-1.1 0-2 .9-2 2v14c0 1.1.9 2 2 2h14c1.1 0 2-.9 2-2V5c0-1.1-.9-2-2-2zM9 17H7v-7h2v7zm4 0h-2V7h2v10zm4 0h-2v-4h2v4z\"/>\n",
              "    </g>\n",
              "</svg>\n",
              "      </button>\n",
              "\n",
              "<style>\n",
              "  .colab-df-quickchart {\n",
              "      --bg-color: #E8F0FE;\n",
              "      --fill-color: #1967D2;\n",
              "      --hover-bg-color: #E2EBFA;\n",
              "      --hover-fill-color: #174EA6;\n",
              "      --disabled-fill-color: #AAA;\n",
              "      --disabled-bg-color: #DDD;\n",
              "  }\n",
              "\n",
              "  [theme=dark] .colab-df-quickchart {\n",
              "      --bg-color: #3B4455;\n",
              "      --fill-color: #D2E3FC;\n",
              "      --hover-bg-color: #434B5C;\n",
              "      --hover-fill-color: #FFFFFF;\n",
              "      --disabled-bg-color: #3B4455;\n",
              "      --disabled-fill-color: #666;\n",
              "  }\n",
              "\n",
              "  .colab-df-quickchart {\n",
              "    background-color: var(--bg-color);\n",
              "    border: none;\n",
              "    border-radius: 50%;\n",
              "    cursor: pointer;\n",
              "    display: none;\n",
              "    fill: var(--fill-color);\n",
              "    height: 32px;\n",
              "    padding: 0;\n",
              "    width: 32px;\n",
              "  }\n",
              "\n",
              "  .colab-df-quickchart:hover {\n",
              "    background-color: var(--hover-bg-color);\n",
              "    box-shadow: 0 1px 2px rgba(60, 64, 67, 0.3), 0 1px 3px 1px rgba(60, 64, 67, 0.15);\n",
              "    fill: var(--button-hover-fill-color);\n",
              "  }\n",
              "\n",
              "  .colab-df-quickchart-complete:disabled,\n",
              "  .colab-df-quickchart-complete:disabled:hover {\n",
              "    background-color: var(--disabled-bg-color);\n",
              "    fill: var(--disabled-fill-color);\n",
              "    box-shadow: none;\n",
              "  }\n",
              "\n",
              "  .colab-df-spinner {\n",
              "    border: 2px solid var(--fill-color);\n",
              "    border-color: transparent;\n",
              "    border-bottom-color: var(--fill-color);\n",
              "    animation:\n",
              "      spin 1s steps(1) infinite;\n",
              "  }\n",
              "\n",
              "  @keyframes spin {\n",
              "    0% {\n",
              "      border-color: transparent;\n",
              "      border-bottom-color: var(--fill-color);\n",
              "      border-left-color: var(--fill-color);\n",
              "    }\n",
              "    20% {\n",
              "      border-color: transparent;\n",
              "      border-left-color: var(--fill-color);\n",
              "      border-top-color: var(--fill-color);\n",
              "    }\n",
              "    30% {\n",
              "      border-color: transparent;\n",
              "      border-left-color: var(--fill-color);\n",
              "      border-top-color: var(--fill-color);\n",
              "      border-right-color: var(--fill-color);\n",
              "    }\n",
              "    40% {\n",
              "      border-color: transparent;\n",
              "      border-right-color: var(--fill-color);\n",
              "      border-top-color: var(--fill-color);\n",
              "    }\n",
              "    60% {\n",
              "      border-color: transparent;\n",
              "      border-right-color: var(--fill-color);\n",
              "    }\n",
              "    80% {\n",
              "      border-color: transparent;\n",
              "      border-right-color: var(--fill-color);\n",
              "      border-bottom-color: var(--fill-color);\n",
              "    }\n",
              "    90% {\n",
              "      border-color: transparent;\n",
              "      border-bottom-color: var(--fill-color);\n",
              "    }\n",
              "  }\n",
              "</style>\n",
              "\n",
              "      <script>\n",
              "        async function quickchart(key) {\n",
              "          const quickchartButtonEl =\n",
              "            document.querySelector('#' + key + ' button');\n",
              "          quickchartButtonEl.disabled = true;  // To prevent multiple clicks.\n",
              "          quickchartButtonEl.classList.add('colab-df-spinner');\n",
              "          try {\n",
              "            const charts = await google.colab.kernel.invokeFunction(\n",
              "                'suggestCharts', [key], {});\n",
              "          } catch (error) {\n",
              "            console.error('Error during call to suggestCharts:', error);\n",
              "          }\n",
              "          quickchartButtonEl.classList.remove('colab-df-spinner');\n",
              "          quickchartButtonEl.classList.add('colab-df-quickchart-complete');\n",
              "        }\n",
              "        (() => {\n",
              "          let quickchartButtonEl =\n",
              "            document.querySelector('#df-17f626c3-e154-4490-acad-8155d9fa1723 button');\n",
              "          quickchartButtonEl.style.display =\n",
              "            google.colab.kernel.accessAllowed ? 'block' : 'none';\n",
              "        })();\n",
              "      </script>\n",
              "    </div>\n",
              "\n",
              "    </div>\n",
              "  </div>\n"
            ],
            "application/vnd.google.colaboratory.intrinsic+json": {
              "type": "dataframe",
              "summary": "{\n  \"name\": \"# EmpleadosAttritionFinal\",\n  \"rows\": 400,\n  \"fields\": [\n    {\n      \"column\": \"Attrition\",\n      \"properties\": {\n        \"dtype\": \"int8\",\n        \"num_unique_values\": 2,\n        \"samples\": [\n          1,\n          0\n        ],\n        \"semantic_type\": \"\",\n        \"description\": \"\"\n      }\n    },\n    {\n      \"column\": \"JobLevel\",\n      \"properties\": {\n        \"dtype\": \"number\",\n        \"std\": 1,\n        \"min\": 1,\n        \"max\": 5,\n        \"num_unique_values\": 5,\n        \"samples\": [\n          2,\n          5\n        ],\n        \"semantic_type\": \"\",\n        \"description\": \"\"\n      }\n    },\n    {\n      \"column\": \"TotalWorkingYears\",\n      \"properties\": {\n        \"dtype\": \"number\",\n        \"std\": 7,\n        \"min\": 0,\n        \"max\": 37,\n        \"num_unique_values\": 37,\n        \"samples\": [\n          25,\n          21\n        ],\n        \"semantic_type\": \"\",\n        \"description\": \"\"\n      }\n    },\n    {\n      \"column\": \"Age\",\n      \"properties\": {\n        \"dtype\": \"number\",\n        \"std\": 8,\n        \"min\": 18,\n        \"max\": 60,\n        \"num_unique_values\": 39,\n        \"samples\": [\n          19,\n          24\n        ],\n        \"semantic_type\": \"\",\n        \"description\": \"\"\n      }\n    },\n    {\n      \"column\": \"YearsInCurrentRole\",\n      \"properties\": {\n        \"dtype\": \"number\",\n        \"std\": 3,\n        \"min\": 0,\n        \"max\": 17,\n        \"num_unique_values\": 18,\n        \"samples\": [\n          4,\n          2\n        ],\n        \"semantic_type\": \"\",\n        \"description\": \"\"\n      }\n    },\n    {\n      \"column\": \"MonthlyIncome\",\n      \"properties\": {\n        \"dtype\": \"number\",\n        \"std\": 0.2583083785682783,\n        \"min\": 0.0,\n        \"max\": 1.0,\n        \"num_unique_values\": 388,\n        \"samples\": [\n          0.05267875975532588,\n          0.24973634254376714\n        ],\n        \"semantic_type\": \"\",\n        \"description\": \"\"\n      }\n    },\n    {\n      \"column\": \"MaritalStatus\",\n      \"properties\": {\n        \"dtype\": \"int8\",\n        \"num_unique_values\": 4,\n        \"samples\": [\n          2,\n          -1\n        ],\n        \"semantic_type\": \"\",\n        \"description\": \"\"\n      }\n    },\n    {\n      \"column\": \"YearsAtCompany\",\n      \"properties\": {\n        \"dtype\": \"Int64\",\n        \"num_unique_values\": 29,\n        \"samples\": [\n          29,\n          4\n        ],\n        \"semantic_type\": \"\",\n        \"description\": \"\"\n      }\n    },\n    {\n      \"column\": \"JobInvolvement\",\n      \"properties\": {\n        \"dtype\": \"number\",\n        \"std\": 0,\n        \"min\": 1,\n        \"max\": 4,\n        \"num_unique_values\": 4,\n        \"samples\": [\n          2,\n          4\n        ],\n        \"semantic_type\": \"\",\n        \"description\": \"\"\n      }\n    },\n    {\n      \"column\": \"JobSatisfaction\",\n      \"properties\": {\n        \"dtype\": \"number\",\n        \"std\": 1,\n        \"min\": 1,\n        \"max\": 4,\n        \"num_unique_values\": 4,\n        \"samples\": [\n          2,\n          1\n        ],\n        \"semantic_type\": \"\",\n        \"description\": \"\"\n      }\n    },\n    {\n      \"column\": \"EnvironmentSatisfaction\",\n      \"properties\": {\n        \"dtype\": \"number\",\n        \"std\": 1,\n        \"min\": 1,\n        \"max\": 4,\n        \"num_unique_values\": 4,\n        \"samples\": [\n          2,\n          1\n        ],\n        \"semantic_type\": \"\",\n        \"description\": \"\"\n      }\n    }\n  ]\n}"
            }
          },
          "metadata": {},
          "execution_count": 189
        }
      ]
    },
    {
      "cell_type": "markdown",
      "source": [
        "\n",
        "\n",
        "Crea una nueva variable llamada EmpleadosAttritionPCA formada por los componentes principales del frame EmpleadosAttritionFinal. Recuerda que el resultado del proceso PCA es un numpy array, por lo que, para hacer referencia a una columna, por ejemplo, la 0, puedes usar la instrucción EmpleadosAttritionPCA[:,0])."
      ],
      "metadata": {
        "id": "I7PGkYE76Hbx"
      }
    },
    {
      "cell_type": "code",
      "source": [
        "imputer = SimpleImputer(strategy='mean')\n",
        "X_imputed = imputer.fit_transform(EmpleadosAttrition)\n",
        "pca = PCA()\n",
        "# EmpleadosAttritionPCA = pca.fit_transform(EmpleadosAttritionFinal)\n",
        "\n",
        "pca.fit(X_imputed)\n",
        "EmpleadosAttritionPCA = pca.explained_variance_\n",
        "# EmpleadosAttritionPCA"
      ],
      "metadata": {
        "id": "s5hEp4nDuzBa"
      },
      "execution_count": 188,
      "outputs": []
    },
    {
      "cell_type": "markdown",
      "source": [
        "Agrega el mínimo número de Componentes Principales en columnas del frame EmpleadosAttritionPCA que logren explicar el 80% de la varianza, al frame EmpleadosAttritionFinal. Puedes usar la instrucción assign, columna por columna, llamando a cada una C0, C1, etc., hasta las que vayas a agregar."
      ],
      "metadata": {
        "id": "0kD3BBj_AVgT"
      }
    },
    {
      "cell_type": "code",
      "source": [
        "cien = EmpleadosAttritionPCA.sum()\n",
        "ochenta = cien * 0.8\n",
        "# print(ochenta)"
      ],
      "metadata": {
        "id": "MKqGZsxKy36i"
      },
      "execution_count": 185,
      "outputs": []
    },
    {
      "cell_type": "code",
      "source": [
        "EmpleadosAttritionPCA.sort()\n",
        "PCAord = EmpleadosAttritionPCA[::-1]\n",
        "# PCAord"
      ],
      "metadata": {
        "id": "PtiC8i23Gdw1"
      },
      "execution_count": 186,
      "outputs": []
    },
    {
      "cell_type": "code",
      "source": [
        "sum = 0\n",
        "i = 0\n",
        "while sum<ochenta:\n",
        "  sum += PCAord[i]\n",
        "  i += 1\n",
        "print(sum)\n",
        "print(i+1)\n",
        "#Aunque se pasa del 80%, es la mínima cantidad de componentes que representan el 80%"
      ],
      "metadata": {
        "colab": {
          "base_uri": "https://localhost:8080/"
        },
        "id": "ZehhikvWHRjg",
        "outputId": "ea1e9c7d-0cfd-444a-812d-2ab190a4dae4"
      },
      "execution_count": 187,
      "outputs": [
        {
          "output_type": "stream",
          "name": "stdout",
          "text": [
            "262.8270826350591\n",
            "5\n"
          ]
        }
      ]
    },
    {
      "cell_type": "markdown",
      "source": [
        "Guarda el set de datos que has formado y que tienes en EmpleadosAttritionFinal\n",
        "\n",
        "\n",
        "en un archivo CSV llamado EmpleadosAttritionFinal.csv. Las últimas columnas que colocaste quedarán después de la variable Attrition, lo cual no importa, pero si gustas lo puedes arreglar antes de escribir el archivo."
      ],
      "metadata": {
        "id": "QsGmkT4_rR-z"
      }
    },
    {
      "cell_type": "code",
      "metadata": {
        "id": "81d04adc"
      },
      "source": [
        "EmpleadosAttritionFinal.to_csv('EmpleadosAttritionFinal.csv', index=False)"
      ],
      "execution_count": 190,
      "outputs": []
    }
  ]
}